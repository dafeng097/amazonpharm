{
 "cells": [
  {
   "cell_type": "code",
   "execution_count": 1,
   "metadata": {},
   "outputs": [],
   "source": [
    "import numpy as np\n",
    "import pandas as pd\n",
    "import datetime as dt\n",
    "import re\n",
    "import matplotlib.pyplot as plt\n",
    "from collections import Counter\n",
    "import seaborn as sns\n",
    "from nltk.tokenize import word_tokenize\n",
    "from nltk.probability import FreqDist\n",
    "import collections"
   ]
  },
  {
   "cell_type": "code",
   "execution_count": 2,
   "metadata": {},
   "outputs": [],
   "source": [
    "drug = pd.read_csv('drug2024.csv')"
   ]
  },
  {
   "cell_type": "code",
   "execution_count": 3,
   "metadata": {},
   "outputs": [
    {
     "data": {
      "text/plain": [
       "Index(['Unnamed: 0', 'link', 'fsa', 'name', 'price', 'size', 'image_url',\n",
       "       'brand', 'special_feature', 'item_dimension', 'product_benefit',\n",
       "       'special_use', 'item_weight', 'reviews', 'rating', '5 star', '4 star',\n",
       "       '3 star', '2 star', '1 star', 'discontinued', 'product_dimension',\n",
       "       'model_number', 'first_date', 'manufacturer', 'asin', 'origin_country',\n",
       "       'ingredients', 'about', 'description', 'safety', 'directions', 'legal',\n",
       "       'cat'],\n",
       "      dtype='object')"
      ]
     },
     "execution_count": 3,
     "metadata": {},
     "output_type": "execute_result"
    }
   ],
   "source": [
    "drug.columns"
   ]
  },
  {
   "cell_type": "code",
   "execution_count": 4,
   "metadata": {},
   "outputs": [],
   "source": [
    "drug[\"special_use_benifit\"] = drug[\"special_use\"] + \" \"+ drug[\"product_benefit\"]"
   ]
  },
  {
   "cell_type": "code",
   "execution_count": 5,
   "metadata": {},
   "outputs": [],
   "source": [
    "df = drug[~drug.rating.isna()].copy()"
   ]
  },
  {
   "cell_type": "code",
   "execution_count": 6,
   "metadata": {},
   "outputs": [
    {
     "data": {
      "text/plain": [
       "(2456, 35)"
      ]
     },
     "execution_count": 6,
     "metadata": {},
     "output_type": "execute_result"
    }
   ],
   "source": [
    "df.shape"
   ]
  },
  {
   "cell_type": "code",
   "execution_count": 7,
   "metadata": {},
   "outputs": [],
   "source": [
    "df[\"product_benefit\"]=df[\"product_benefit\"].astype(str)\n",
    "df[\"product_benefit\"]=df[\"product_benefit\"].astype(str)\n",
    "df[\"about\"]=df[\"about\"].astype(str)\n",
    "df[\"description\"]=df[\"description\"].astype(str)\n",
    "\n",
    "drug[\"special_use_benifit\"]=drug[\"special_use_benifit\"].astype(str)"
   ]
  },
  {
   "cell_type": "code",
   "execution_count": 8,
   "metadata": {},
   "outputs": [],
   "source": [
    "\n",
    "df[\"special_use\"] = df[\"special_use\"].str.lower() \n",
    "\n",
    "df[\"product_benefit\"] = df[\"product_benefit\"].str.lower() \n",
    "\n",
    "df[\"about\"] = df[\"about\"].str.lower() \n",
    "\n",
    "df[\"description\"] = df[\"description\"].str.lower() \n",
    "df[\"special_use_benifit\"]=df[\"special_use_benifit\"].str.lower()"
   ]
  },
  {
   "cell_type": "code",
   "execution_count": 9,
   "metadata": {},
   "outputs": [
    {
     "data": {
      "text/plain": [
       "'Pain and Fever Relief, Cold and Flu Relief Cold and Flu Control'"
      ]
     },
     "execution_count": 9,
     "metadata": {},
     "output_type": "execute_result"
    }
   ],
   "source": [
    " drug[\"special_use_benifit\"][0]"
   ]
  },
  {
   "cell_type": "code",
   "execution_count": 10,
   "metadata": {},
   "outputs": [
    {
     "data": {
      "text/plain": [
       "'pain and fever relief, cold and flu relief'"
      ]
     },
     "execution_count": 10,
     "metadata": {},
     "output_type": "execute_result"
    }
   ],
   "source": [
    "df[\"special_use\"] [0]"
   ]
  },
  {
   "cell_type": "code",
   "execution_count": 11,
   "metadata": {},
   "outputs": [
    {
     "data": {
      "text/plain": [
       "'cold and flu control'"
      ]
     },
     "execution_count": 11,
     "metadata": {},
     "output_type": "execute_result"
    }
   ],
   "source": [
    "df[\"product_benefit\"] [0]"
   ]
  },
  {
   "cell_type": "markdown",
   "metadata": {},
   "source": [
    "# Benieft vs Special use"
   ]
  },
  {
   "cell_type": "code",
   "execution_count": 12,
   "metadata": {},
   "outputs": [
    {
     "data": {
      "text/plain": [
       "cold    840\n",
       "dig     634\n",
       "alg     576\n",
       "pain    406\n",
       "Name: cat, dtype: int64"
      ]
     },
     "execution_count": 12,
     "metadata": {},
     "output_type": "execute_result"
    }
   ],
   "source": [
    "df[\"cat\"].value_counts()"
   ]
  },
  {
   "cell_type": "code",
   "execution_count": 13,
   "metadata": {},
   "outputs": [
    {
     "data": {
      "text/html": [
       "<div>\n",
       "<style scoped>\n",
       "    .dataframe tbody tr th:only-of-type {\n",
       "        vertical-align: middle;\n",
       "    }\n",
       "\n",
       "    .dataframe tbody tr th {\n",
       "        vertical-align: top;\n",
       "    }\n",
       "\n",
       "    .dataframe thead th {\n",
       "        text-align: right;\n",
       "    }\n",
       "</style>\n",
       "<table border=\"1\" class=\"dataframe\">\n",
       "  <thead>\n",
       "    <tr style=\"text-align: right;\">\n",
       "      <th></th>\n",
       "      <th>Unnamed: 0</th>\n",
       "      <th>link</th>\n",
       "      <th>fsa</th>\n",
       "      <th>name</th>\n",
       "      <th>price</th>\n",
       "      <th>size</th>\n",
       "      <th>image_url</th>\n",
       "      <th>brand</th>\n",
       "      <th>special_feature</th>\n",
       "      <th>item_dimension</th>\n",
       "      <th>...</th>\n",
       "      <th>asin</th>\n",
       "      <th>origin_country</th>\n",
       "      <th>ingredients</th>\n",
       "      <th>about</th>\n",
       "      <th>description</th>\n",
       "      <th>safety</th>\n",
       "      <th>directions</th>\n",
       "      <th>legal</th>\n",
       "      <th>cat</th>\n",
       "      <th>special_use_benifit</th>\n",
       "    </tr>\n",
       "  </thead>\n",
       "  <tbody>\n",
       "    <tr>\n",
       "      <th>0</th>\n",
       "      <td>0</td>\n",
       "      <td>https://www.amazon.com/Basic-Care-Daytime-Nigh...</td>\n",
       "      <td>FSA or HSA eligible</td>\n",
       "      <td>Cold and Flu Relief, Daytime and Nighttime Com...</td>\n",
       "      <td>$12.74</td>\n",
       "      <td>48 Count (Pack of 1)</td>\n",
       "      <td>https://m.media-amazon.com/images/I/71Yn2+VQcC...</td>\n",
       "      <td>Amazon Basic Care</td>\n",
       "      <td>Non Drowsy</td>\n",
       "      <td>4.38 x 2 x 3.25 inches</td>\n",
       "      <td>...</td>\n",
       "      <td>B07BQKPMFM</td>\n",
       "      <td>Canada</td>\n",
       "      <td>Daytime Cold &amp; Flu: Active ingredients (in eac...</td>\n",
       "      <td>\\n about this item    active ingredients: com...</td>\n",
       "      <td>\\n compare to the active ingredients in vicks...</td>\n",
       "      <td>Safety Information Daytime/Nighttime Cold &amp; Fl...</td>\n",
       "      <td>Directions Daytime Cold &amp; Flu Directions: take...</td>\n",
       "      <td>Legal Disclaimer Statements regarding dietary ...</td>\n",
       "      <td>cold</td>\n",
       "      <td>pain and fever relief, cold and flu relief col...</td>\n",
       "    </tr>\n",
       "    <tr>\n",
       "      <th>1</th>\n",
       "      <td>1</td>\n",
       "      <td>https://www.amazon.com/TYLENOL-Symptom-Relief-...</td>\n",
       "      <td>FSA or HSA eligible</td>\n",
       "      <td>Cold + Flu Severe Medicine Caplets for Fever, ...</td>\n",
       "      <td>$7.66</td>\n",
       "      <td>24 Count (Pack of 1)</td>\n",
       "      <td>https://m.media-amazon.com/images/I/81ZPNR2nA-...</td>\n",
       "      <td>Tylenol</td>\n",
       "      <td>Targeted</td>\n",
       "      <td>0.79 x 4.52 x 2.91 inches</td>\n",
       "      <td>...</td>\n",
       "      <td>B009ITR4EY</td>\n",
       "      <td>Italy</td>\n",
       "      <td>Active ingredients (in each caplet) Acetaminop...</td>\n",
       "      <td>\\n about this item    24-count of tylenol col...</td>\n",
       "      <td>\\n product description   experience temporary...</td>\n",
       "      <td>Safety Information Liver warning: This product...</td>\n",
       "      <td>Directions Important: Read all product informa...</td>\n",
       "      <td>Legal Disclaimer Statements regarding dietary ...</td>\n",
       "      <td>cold</td>\n",
       "      <td>cold,flu,fever,cough,nasal congestion,headache...</td>\n",
       "    </tr>\n",
       "    <tr>\n",
       "      <th>2</th>\n",
       "      <td>2</td>\n",
       "      <td>https://www.amazon.com/Mucinex-Fast-Max-Streng...</td>\n",
       "      <td>FSA or HSA eligible</td>\n",
       "      <td>Fast-Max Maximum Strength Cold &amp; Flu Day and N...</td>\n",
       "      <td>$15.34</td>\n",
       "      <td>24 Count (Pack of 1)</td>\n",
       "      <td>https://m.media-amazon.com/images/I/81l8CSZQAO...</td>\n",
       "      <td>Mucinex</td>\n",
       "      <td>Information already added</td>\n",
       "      <td>1.73 x 3.54 x 4.92 inches</td>\n",
       "      <td>...</td>\n",
       "      <td>B013Q8JZVM</td>\n",
       "      <td>United Kingdom</td>\n",
       "      <td>Active Ingredients: (Mucinex Fast-Max Day Seve...</td>\n",
       "      <td>\\n about this item    maximum strength mucine...</td>\n",
       "      <td>\\n maximum strength mucinex fast-max day and ...</td>\n",
       "      <td>NaN</td>\n",
       "      <td>NaN</td>\n",
       "      <td>Legal Disclaimer Statements regarding dietary ...</td>\n",
       "      <td>cold</td>\n",
       "      <td>NaN</td>\n",
       "    </tr>\n",
       "    <tr>\n",
       "      <th>3</th>\n",
       "      <td>3</td>\n",
       "      <td>https://www.amazon.com/Amazon-Basic-Care-Night...</td>\n",
       "      <td>FSA or HSA eligible</td>\n",
       "      <td>Night Time Cold &amp; Flu Liquid, Cherry, 12 Fl Oz...</td>\n",
       "      <td>$7.99</td>\n",
       "      <td>12 Fl Oz (Pack of 1)</td>\n",
       "      <td>https://m.media-amazon.com/images/I/71BW4K0jaU...</td>\n",
       "      <td>Amazon Basic Care</td>\n",
       "      <td>NaN</td>\n",
       "      <td>2.5 x 2.5 x 7.25 inches</td>\n",
       "      <td>...</td>\n",
       "      <td>B074F297S8</td>\n",
       "      <td>USA</td>\n",
       "      <td>Active ingredients (in each 30 mL): Acetaminop...</td>\n",
       "      <td>\\n about this item    active ingredients: act...</td>\n",
       "      <td>\\n compare to vicks nyquil cold &amp; flu active ...</td>\n",
       "      <td>Safety Information Liver warning: This product...</td>\n",
       "      <td>Directions Take only as directed – see overdos...</td>\n",
       "      <td>Legal Disclaimer Statements regarding dietary ...</td>\n",
       "      <td>cold</td>\n",
       "      <td>cold, cough, fever cold and flu control</td>\n",
       "    </tr>\n",
       "    <tr>\n",
       "      <th>4</th>\n",
       "      <td>4</td>\n",
       "      <td>https://www.amazon.com/Theraflu-ExpressMax-Day...</td>\n",
       "      <td>FSA or HSA eligible</td>\n",
       "      <td>ExpressMax Severe Cold and Cough Medicine, Day...</td>\n",
       "      <td>$12.98</td>\n",
       "      <td>8.3 Fl Oz (Pack of 2)</td>\n",
       "      <td>https://m.media-amazon.com/images/I/91sQHZpElF...</td>\n",
       "      <td>Theraflu</td>\n",
       "      <td>NaN</td>\n",
       "      <td>1.63 x 5.75 x 6 inches</td>\n",
       "      <td>...</td>\n",
       "      <td>B011VX2FGQ</td>\n",
       "      <td>USA</td>\n",
       "      <td>Theraflu ExpressMax Daytime Severe Cold &amp; Coug...</td>\n",
       "      <td>\\n about this item    package contains one 8....</td>\n",
       "      <td>\\n theraflu expressmax severe cold and cough ...</td>\n",
       "      <td>NaN</td>\n",
       "      <td>Directions 30 mL of the cold and cough syrup c...</td>\n",
       "      <td>Legal Disclaimer Satisfaction Guarantee If for...</td>\n",
       "      <td>cold</td>\n",
       "      <td>cold, cough cough relief</td>\n",
       "    </tr>\n",
       "  </tbody>\n",
       "</table>\n",
       "<p>5 rows × 35 columns</p>\n",
       "</div>"
      ],
      "text/plain": [
       "   Unnamed: 0                                               link  \\\n",
       "0           0  https://www.amazon.com/Basic-Care-Daytime-Nigh...   \n",
       "1           1  https://www.amazon.com/TYLENOL-Symptom-Relief-...   \n",
       "2           2  https://www.amazon.com/Mucinex-Fast-Max-Streng...   \n",
       "3           3  https://www.amazon.com/Amazon-Basic-Care-Night...   \n",
       "4           4  https://www.amazon.com/Theraflu-ExpressMax-Day...   \n",
       "\n",
       "                   fsa                                               name  \\\n",
       "0  FSA or HSA eligible  Cold and Flu Relief, Daytime and Nighttime Com...   \n",
       "1  FSA or HSA eligible  Cold + Flu Severe Medicine Caplets for Fever, ...   \n",
       "2  FSA or HSA eligible  Fast-Max Maximum Strength Cold & Flu Day and N...   \n",
       "3  FSA or HSA eligible  Night Time Cold & Flu Liquid, Cherry, 12 Fl Oz...   \n",
       "4  FSA or HSA eligible  ExpressMax Severe Cold and Cough Medicine, Day...   \n",
       "\n",
       "    price                   size  \\\n",
       "0  $12.74   48 Count (Pack of 1)   \n",
       "1   $7.66   24 Count (Pack of 1)   \n",
       "2  $15.34   24 Count (Pack of 1)   \n",
       "3   $7.99   12 Fl Oz (Pack of 1)   \n",
       "4  $12.98  8.3 Fl Oz (Pack of 2)   \n",
       "\n",
       "                                           image_url              brand  \\\n",
       "0  https://m.media-amazon.com/images/I/71Yn2+VQcC...  Amazon Basic Care   \n",
       "1  https://m.media-amazon.com/images/I/81ZPNR2nA-...            Tylenol   \n",
       "2  https://m.media-amazon.com/images/I/81l8CSZQAO...            Mucinex   \n",
       "3  https://m.media-amazon.com/images/I/71BW4K0jaU...  Amazon Basic Care   \n",
       "4  https://m.media-amazon.com/images/I/91sQHZpElF...           Theraflu   \n",
       "\n",
       "             special_feature             item_dimension  ...        asin  \\\n",
       "0                 Non Drowsy     4.38 x 2 x 3.25 inches  ...  B07BQKPMFM   \n",
       "1                   Targeted  0.79 x 4.52 x 2.91 inches  ...  B009ITR4EY   \n",
       "2  Information already added  1.73 x 3.54 x 4.92 inches  ...  B013Q8JZVM   \n",
       "3                        NaN    2.5 x 2.5 x 7.25 inches  ...  B074F297S8   \n",
       "4                        NaN     1.63 x 5.75 x 6 inches  ...  B011VX2FGQ   \n",
       "\n",
       "   origin_country                                        ingredients  \\\n",
       "0          Canada  Daytime Cold & Flu: Active ingredients (in eac...   \n",
       "1           Italy  Active ingredients (in each caplet) Acetaminop...   \n",
       "2  United Kingdom  Active Ingredients: (Mucinex Fast-Max Day Seve...   \n",
       "3             USA  Active ingredients (in each 30 mL): Acetaminop...   \n",
       "4             USA  Theraflu ExpressMax Daytime Severe Cold & Coug...   \n",
       "\n",
       "                                               about  \\\n",
       "0   \\n about this item    active ingredients: com...   \n",
       "1   \\n about this item    24-count of tylenol col...   \n",
       "2   \\n about this item    maximum strength mucine...   \n",
       "3   \\n about this item    active ingredients: act...   \n",
       "4   \\n about this item    package contains one 8....   \n",
       "\n",
       "                                         description  \\\n",
       "0   \\n compare to the active ingredients in vicks...   \n",
       "1   \\n product description   experience temporary...   \n",
       "2   \\n maximum strength mucinex fast-max day and ...   \n",
       "3   \\n compare to vicks nyquil cold & flu active ...   \n",
       "4   \\n theraflu expressmax severe cold and cough ...   \n",
       "\n",
       "                                              safety  \\\n",
       "0  Safety Information Daytime/Nighttime Cold & Fl...   \n",
       "1  Safety Information Liver warning: This product...   \n",
       "2                                                NaN   \n",
       "3  Safety Information Liver warning: This product...   \n",
       "4                                                NaN   \n",
       "\n",
       "                                          directions  \\\n",
       "0  Directions Daytime Cold & Flu Directions: take...   \n",
       "1  Directions Important: Read all product informa...   \n",
       "2                                                NaN   \n",
       "3  Directions Take only as directed – see overdos...   \n",
       "4  Directions 30 mL of the cold and cough syrup c...   \n",
       "\n",
       "                                               legal   cat  \\\n",
       "0  Legal Disclaimer Statements regarding dietary ...  cold   \n",
       "1  Legal Disclaimer Statements regarding dietary ...  cold   \n",
       "2  Legal Disclaimer Statements regarding dietary ...  cold   \n",
       "3  Legal Disclaimer Statements regarding dietary ...  cold   \n",
       "4  Legal Disclaimer Satisfaction Guarantee If for...  cold   \n",
       "\n",
       "                                 special_use_benifit  \n",
       "0  pain and fever relief, cold and flu relief col...  \n",
       "1  cold,flu,fever,cough,nasal congestion,headache...  \n",
       "2                                                NaN  \n",
       "3            cold, cough, fever cold and flu control  \n",
       "4                           cold, cough cough relief  \n",
       "\n",
       "[5 rows x 35 columns]"
      ]
     },
     "execution_count": 13,
     "metadata": {},
     "output_type": "execute_result"
    }
   ],
   "source": [
    "df.head()"
   ]
  },
  {
   "cell_type": "code",
   "execution_count": 14,
   "metadata": {},
   "outputs": [
    {
     "ename": "NameError",
     "evalue": "name 'data' is not defined",
     "output_type": "error",
     "traceback": [
      "\u001b[1;31m---------------------------------------------------------------------------\u001b[0m",
      "\u001b[1;31mNameError\u001b[0m                                 Traceback (most recent call last)",
      "\u001b[1;32m<ipython-input-14-eeebf218f215>\u001b[0m in \u001b[0;36m<module>\u001b[1;34m\u001b[0m\n\u001b[0;32m      1\u001b[0m \u001b[0mall_count\u001b[0m \u001b[1;33m=\u001b[0m \u001b[0mpd\u001b[0m\u001b[1;33m.\u001b[0m\u001b[0mDataFrame\u001b[0m\u001b[1;33m(\u001b[0m\u001b[1;33m)\u001b[0m\u001b[1;33m\u001b[0m\u001b[1;33m\u001b[0m\u001b[0m\n\u001b[0;32m      2\u001b[0m \u001b[1;32mfor\u001b[0m \u001b[0mcat\u001b[0m \u001b[1;32min\u001b[0m \u001b[1;33m[\u001b[0m\u001b[1;34m\"cold\"\u001b[0m\u001b[1;33m,\u001b[0m\u001b[1;34m\"dig\"\u001b[0m\u001b[1;33m,\u001b[0m\u001b[1;34m\"alg\"\u001b[0m\u001b[1;33m,\u001b[0m\u001b[1;34m\"pain\"\u001b[0m\u001b[1;33m]\u001b[0m\u001b[1;33m:\u001b[0m\u001b[1;33m\u001b[0m\u001b[1;33m\u001b[0m\u001b[0m\n\u001b[1;32m----> 3\u001b[1;33m     \u001b[0mdata\u001b[0m \u001b[1;33m-\u001b[0m \u001b[0mpd\u001b[0m\u001b[1;33m.\u001b[0m\u001b[0mDataFrame\u001b[0m\u001b[1;33m(\u001b[0m\u001b[1;33m)\u001b[0m\u001b[1;33m\u001b[0m\u001b[1;33m\u001b[0m\u001b[0m\n\u001b[0m\u001b[0;32m      4\u001b[0m     \u001b[0mdf1\u001b[0m  \u001b[1;33m=\u001b[0m\u001b[0mdf\u001b[0m \u001b[1;33m[\u001b[0m\u001b[0mdf\u001b[0m\u001b[1;33m[\u001b[0m\u001b[1;34m\"cat\"\u001b[0m\u001b[1;33m]\u001b[0m\u001b[1;33m==\u001b[0m\u001b[0mcat\u001b[0m\u001b[1;33m]\u001b[0m\u001b[1;33m\u001b[0m\u001b[1;33m\u001b[0m\u001b[0m\n\u001b[0;32m      5\u001b[0m     \u001b[0mdf1\u001b[0m \u001b[1;33m=\u001b[0m \u001b[0mdf1\u001b[0m\u001b[1;33m.\u001b[0m\u001b[0mreset_index\u001b[0m\u001b[1;33m(\u001b[0m\u001b[1;33m)\u001b[0m\u001b[1;33m\u001b[0m\u001b[1;33m\u001b[0m\u001b[0m\n",
      "\u001b[1;31mNameError\u001b[0m: name 'data' is not defined"
     ]
    }
   ],
   "source": [
    "all_count = pd.DataFrame()\n",
    "for cat in [\"cold\",\"dig\",\"alg\",\"pain\"]:\n",
    "    data - pd.DataFrame()\n",
    "    df1  =df [df[\"cat\"]==cat]\n",
    "    df1 = df1.reset_index()\n",
    "    df1[\"special_use_benifit\"]=df1[\"special_use_benifit\"].astype(str)\n",
    "    benefit_list = []\n",
    "    for i in range(len(df1)):\n",
    "        item = df1[\"special_use_benifit\"][i]\n",
    "        a = item.split(\",\")\n",
    "        for j in range(len(a)):\n",
    "            benefit_list.append(a[j])\n",
    "    result = []\n",
    "    for i in range(len(benefit_list)):\n",
    "        item = benefit_list[i]\n",
    "        a = item.split(\" \")\n",
    "        for j in range(len(a)):\n",
    "            result.append(a[j])\n",
    "    result = list(map(str.lower,result))\n",
    "    \n",
    "    frequency = collections.Counter(result)\n",
    "    frequency = dict(frequency)\n",
    "    key = pd.DataFrame(frequency.keys())\n",
    "    value = pd.DataFrame(frequency.values())\n",
    "    data = pd.concat([key, value], axis = 1)\n",
    "    #data = data.reset_index()\n",
    "    data.columns = [ cat, cat+ \"_count\"]\n",
    "    data = data.sort_values(cat + \"_count\", ascending = False)\n",
    "    print(data.head(30))\n",
    "    \n",
    "    all_count = pd.concat([all_count, data], axis = 1)\n"
   ]
  },
  {
   "cell_type": "code",
   "execution_count": null,
   "metadata": {},
   "outputs": [],
   "source": [
    "all_count"
   ]
  },
  {
   "cell_type": "markdown",
   "metadata": {},
   "source": [
    "# key words based on frequency"
   ]
  },
  {
   "cell_type": "code",
   "execution_count": 15,
   "metadata": {},
   "outputs": [],
   "source": [
    "cold_cod = [\"cold\",\"flu\",\"cough\", \"throat\",\"congestion\",\"nasal\",\"headache\",\"sinus\",\"chest\",\"fever\",\"relie\"]\n",
    "dig_cod = [\"acidity\",\"heartburn\",\"stomach\",\"nausea\",\"digestion\"]\n",
    "alg_cod = [\"allerg\",\"itchy\",\"nose\",\"sneezing\",\"eyes\",\"throat\",\"fever\",\"nasal\"]\n",
    "pain_cod = [\"pain\",\"fever\",\"headache\",\"arthritis\",\"cold\",\"migranie\",\"menstrual\"]\n",
    "\n",
    "all_cod = cold_cod + dig_cod+ alg_cod+pain_cod\n",
    "all_cod = list(set(sorted(all_cod)))"
   ]
  },
  {
   "cell_type": "code",
   "execution_count": 16,
   "metadata": {},
   "outputs": [
    {
     "data": {
      "text/plain": [
       "['relie',\n",
       " 'eyes',\n",
       " 'headache',\n",
       " 'sneezing',\n",
       " 'heartburn',\n",
       " 'nasal',\n",
       " 'chest',\n",
       " 'fever',\n",
       " 'pain',\n",
       " 'allerg',\n",
       " 'congestion',\n",
       " 'migranie',\n",
       " 'throat',\n",
       " 'cold',\n",
       " 'arthritis',\n",
       " 'acidity',\n",
       " 'menstrual',\n",
       " 'flu',\n",
       " 'stomach',\n",
       " 'digestion',\n",
       " 'sinus',\n",
       " 'nose',\n",
       " 'cough',\n",
       " 'nausea',\n",
       " 'itchy']"
      ]
     },
     "execution_count": 16,
     "metadata": {},
     "output_type": "execute_result"
    }
   ],
   "source": [
    "all_cod"
   ]
  },
  {
   "cell_type": "code",
   "execution_count": 17,
   "metadata": {},
   "outputs": [],
   "source": [
    "df['arthritis'] = 0\n",
    "df['relie'] = 0\n",
    "df['nausea']=0\n",
    "df['migranie']=0\n",
    "df['cold']=0\n",
    "df['nasal']=0\n",
    "df['nose']=0\n",
    "df['acidity']=0\n",
    "df['flu']=0\n",
    "df['throat']=0\n",
    "df['fever']=0\n",
    "df['sinus']=0\n",
    "df['cough']=0\n",
    "df['eyes']=0\n",
    "df['menstrual']=0\n",
    "df['pain']=0\n",
    "df['congestion']=0\n",
    "df['itchy']=0\n",
    "df['allerg']=0\n",
    "df['heartburn']=0\n",
    "df['stomach']=0\n",
    "df['headache']=0\n",
    "df['chest']=0\n",
    "df['sneezing']=0\n",
    "df['digestion']=0   \n",
    "    \n",
    " "
   ]
  },
  {
   "cell_type": "code",
   "execution_count": 18,
   "metadata": {},
   "outputs": [
    {
     "data": {
      "text/plain": [
       "True"
      ]
     },
     "execution_count": 18,
     "metadata": {},
     "output_type": "execute_result"
    }
   ],
   "source": [
    "\"cold\" in df[\"special_use_benifit\"][0]"
   ]
  },
  {
   "cell_type": "code",
   "execution_count": 19,
   "metadata": {},
   "outputs": [
    {
     "data": {
      "text/plain": [
       "'pain and fever relief, cold and flu relief cold and flu control'"
      ]
     },
     "execution_count": 19,
     "metadata": {},
     "output_type": "execute_result"
    }
   ],
   "source": [
    "df[\"special_use_benifit\"][0]"
   ]
  },
  {
   "cell_type": "code",
   "execution_count": 20,
   "metadata": {},
   "outputs": [
    {
     "name": "stderr",
     "output_type": "stream",
     "text": [
      "<ipython-input-20-526c625563de>:5: SettingWithCopyWarning: \n",
      "A value is trying to be set on a copy of a slice from a DataFrame\n",
      "\n",
      "See the caveats in the documentation: https://pandas.pydata.org/pandas-docs/stable/user_guide/indexing.html#returning-a-view-versus-a-copy\n",
      "  df[item][i] = 1\n"
     ]
    }
   ],
   "source": [
    "df = df.reset_index()\n",
    "for item in all_cod:\n",
    "    for i in range(len(df)):\n",
    "        if item in (str(df[\"special_use_benifit\"][i])):\n",
    "            df[item][i] = 1"
   ]
  },
  {
   "cell_type": "code",
   "execution_count": 21,
   "metadata": {},
   "outputs": [],
   "source": [
    "df.to_csv(\"drug_2024_new.csv\")"
   ]
  },
  {
   "cell_type": "code",
   "execution_count": 22,
   "metadata": {},
   "outputs": [
    {
     "data": {
      "text/plain": [
       "0    2184\n",
       "1     272\n",
       "Name: cold, dtype: int64"
      ]
     },
     "execution_count": 22,
     "metadata": {},
     "output_type": "execute_result"
    }
   ],
   "source": [
    "df[\"cold\"].value_counts()"
   ]
  },
  {
   "cell_type": "markdown",
   "metadata": {},
   "source": [
    "# About"
   ]
  },
  {
   "cell_type": "code",
   "execution_count": 25,
   "metadata": {},
   "outputs": [
    {
     "name": "stdout",
     "output_type": "stream",
     "text": [
      "           cold  cold_count\n",
      "0                     18692\n",
      "17          and        3787\n",
      "9           the        1806\n",
      "8            to        1720\n",
      "1            \\n        1438\n",
      "113         for        1314\n",
      "25           of        1309\n",
      "14         cold        1249\n",
      "32        cough         989\n",
      "3          this         985\n",
      "58            a         964\n",
      "15            &         893\n",
      "24       relief         890\n",
      "181        with         867\n",
      "11           in         827\n",
      "258        your         761\n",
      "111          is         739\n",
      "2         about         718\n",
      "4          item         710\n",
      "31   congestion         675\n",
      "16          flu         637\n",
      "29       throat         616\n",
      "184         you         566\n",
      "30        nasal         514\n",
      "226          or         466\n",
      "142        that         440\n",
      "263         our         440\n",
      "93           as         415\n",
      "71     symptoms         415\n",
      "28         sore         415\n",
      "             dig  dig_count\n",
      "0                     11254\n",
      "19           and       1407\n",
      "24            to       1053\n",
      "1             \\n       1012\n",
      "39           the        989\n",
      "17     heartburn        973\n",
      "20          acid        886\n",
      "15           for        779\n",
      "42            of        740\n",
      "3           this        642\n",
      "105            a        582\n",
      "18        relief        550\n",
      "22            in        548\n",
      "4           item        512\n",
      "2          about        505\n",
      "50          with        465\n",
      "47       stomach        442\n",
      "14       tablets        409\n",
      "179           or        372\n",
      "90            is        333\n",
      "307         your        298\n",
      "21   indigestion        282\n",
      "137           as        265\n",
      "13       antacid        261\n",
      "206         that        253\n",
      "350          you        250\n",
      "64            by        215\n",
      "302          our        195\n",
      "83        active        188\n",
      "12      strength        185\n",
      "           alg  alg_count\n",
      "0                   12168\n",
      "27         and       1915\n",
      "15     allergy       1629\n",
      "7          the       1065\n",
      "37      relief       1062\n",
      "31          to       1039\n",
      "24          of        996\n",
      "1           \\n        969\n",
      "22         for        807\n",
      "3         this        703\n",
      "69           a        587\n",
      "9           in        574\n",
      "47        nose        571\n",
      "29    symptoms        509\n",
      "2        about        496\n",
      "51       itchy        492\n",
      "4         item        489\n",
      "118       your        472\n",
      "41          or        472\n",
      "145       with        452\n",
      "16          is        420\n",
      "105        you        388\n",
      "144  allergies        375\n",
      "46       runny        363\n",
      "143       from        354\n",
      "48    sneezing        334\n",
      "126         as        320\n",
      "276          &        316\n",
      "72        that        300\n",
      "53        eyes        295\n",
      "              pain  pain_count\n",
      "0                         8473\n",
      "31             and        1873\n",
      "12            pain        1518\n",
      "21              to         873\n",
      "26          relief         833\n",
      "22             the         740\n",
      "1               \\n         702\n",
      "56             for         700\n",
      "23              of         700\n",
      "3             this         510\n",
      "47           fever         483\n",
      "53               a         441\n",
      "64            with         401\n",
      "30           aches         401\n",
      "29           minor         390\n",
      "2            about         344\n",
      "4             item         341\n",
      "16   acetaminophen         337\n",
      "54        reliever         306\n",
      "99              in         301\n",
      "113            you         286\n",
      "37        headache         282\n",
      "15              is         281\n",
      "95       ibuprofen         275\n",
      "32           pains         270\n",
      "152       medicine         250\n",
      "18              mg         244\n",
      "52              as         241\n",
      "39       arthritis         232\n",
      "11        strength         203\n"
     ]
    }
   ],
   "source": [
    "about_count = pd.DataFrame()\n",
    "data = pd.DataFrame()\n",
    "for cat in [\"cold\",\"dig\",\"alg\",\"pain\"]:\n",
    "    df1  =df [df[\"cat\"]==cat]\n",
    "    df1 = df1.reset_index()\n",
    "    df1[\"about\"]=df1[\"about\"].astype(str)\n",
    "    benefit_list = []\n",
    "    for i in range(len(df1)):\n",
    "        item = df1[\"about\"][i]\n",
    "        a = item.split(\",\")\n",
    "        for j in range(len(a)):\n",
    "            benefit_list.append(a[j])\n",
    "    result = []\n",
    "    for i in range(len(benefit_list)):\n",
    "        item = benefit_list[i]\n",
    "        a = item.split(\" \")\n",
    "        for j in range(len(a)):\n",
    "            result.append(a[j])\n",
    "    result = list(map(str.lower,result))\n",
    "    \n",
    "    frequency = collections.Counter(result)\n",
    "    frequency = dict(frequency)\n",
    "    key = pd.DataFrame(frequency.keys())\n",
    "    value = pd.DataFrame(frequency.values())\n",
    "    data = pd.concat([key, value], axis = 1)\n",
    "    #data = data.reset_index()\n",
    "    data.columns = [ cat, cat+ \"_count\"]\n",
    "    data = data.sort_values(cat + \"_count\", ascending = False)\n",
    "    print(data.head(30))\n",
    "    \n",
    "    about_count = pd.concat([about_count, data], axis = 1)\n"
   ]
  },
  {
   "cell_type": "code",
   "execution_count": 26,
   "metadata": {},
   "outputs": [],
   "source": [
    "about_count.to_csv(\"about_count.csv\")"
   ]
  },
  {
   "cell_type": "markdown",
   "metadata": {},
   "source": [
    "# Description"
   ]
  },
  {
   "cell_type": "code",
   "execution_count": 27,
   "metadata": {},
   "outputs": [
    {
     "name": "stdout",
     "output_type": "stream",
     "text": [
      "           cold  cold_count\n",
      "0                      6692\n",
      "13          and        3092\n",
      "4           the        1606\n",
      "3            to        1236\n",
      "10         cold        1217\n",
      "105          of        1102\n",
      "122         for         980\n",
      "52            a         877\n",
      "41        cough         794\n",
      "11            &         767\n",
      "31           is         689\n",
      "1            \\n         661\n",
      "12          flu         646\n",
      "71         with         639\n",
      "40   congestion         606\n",
      "262        your         600\n",
      "18       relief         596\n",
      "7            in         572\n",
      "227         you         563\n",
      "38       throat         476\n",
      "135     mucinex         462\n",
      "27           or         441\n",
      "39        nasal         430\n",
      "37         sore         416\n",
      "70     symptoms         400\n",
      "162          as         379\n",
      "76         this         352\n",
      "49     medicine         345\n",
      "146         can         304\n",
      "225         are         295\n",
      "             dig  dig_count\n",
      "0                      3555\n",
      "38           and       1185\n",
      "9             to        956\n",
      "43           the        907\n",
      "21     heartburn        845\n",
      "45            of        707\n",
      "66             a        685\n",
      "16          acid        674\n",
      "83           for        661\n",
      "1             \\n        521\n",
      "11            in        443\n",
      "109           or        443\n",
      "23          with        433\n",
      "22        relief        431\n",
      "7        tablets        411\n",
      "86            is        397\n",
      "58       stomach        388\n",
      "152          you        384\n",
      "46          your        309\n",
      "79            as        285\n",
      "6        antacid        279\n",
      "335          not        263\n",
      "158         that        251\n",
      "13            by        245\n",
      "4       strength        238\n",
      "142         from        223\n",
      "56   indigestion        219\n",
      "236         take        204\n",
      "26          more        194\n",
      "17            on        193\n",
      "           alg  alg_count\n",
      "0                    3635\n",
      "43         and       1320\n",
      "19     allergy       1020\n",
      "4          the        739\n",
      "7           of        696\n",
      "3           to        640\n",
      "20      relief        593\n",
      "53         for        482\n",
      "1           \\n        445\n",
      "54           a        400\n",
      "102         is        387\n",
      "40        nose        384\n",
      "41       itchy        361\n",
      "35    symptoms        359\n",
      "80          in        348\n",
      "21        with        306\n",
      "29          or        305\n",
      "61        your        268\n",
      "39       runny        261\n",
      "11   allergies        260\n",
      "59     tablets        230\n",
      "38    sneezing        229\n",
      "37          as        228\n",
      "147       from        225\n",
      "91        this        216\n",
      "44      watery        207\n",
      "85          by        205\n",
      "13         you        198\n",
      "606      nasal        191\n",
      "108       eyes        191\n",
      "              pain  pain_count\n",
      "0                         3154\n",
      "27             and        1381\n",
      "34            pain        1030\n",
      "4              the         772\n",
      "3               to         713\n",
      "50              of         538\n",
      "29          relief         514\n",
      "94               a         459\n",
      "74             for         452\n",
      "19           aches         397\n",
      "45           minor         359\n",
      "1               \\n         337\n",
      "83              is         332\n",
      "30            with         313\n",
      "88             you         292\n",
      "7               in         276\n",
      "28           fever         265\n",
      "21              or         246\n",
      "109      ibuprofen         225\n",
      "108          advil         222\n",
      "39            this         219\n",
      "20           pains         219\n",
      "40        reliever         216\n",
      "26        headache         216\n",
      "130           from         185\n",
      "14            your         178\n",
      "128             as         175\n",
      "35   acetaminophen         170\n",
      "51       arthritis         168\n",
      "92            that         156\n"
     ]
    }
   ],
   "source": [
    "description_count = pd.DataFrame()\n",
    "data = pd.DataFrame()\n",
    "\n",
    "for cat in [\"cold\",\"dig\",\"alg\",\"pain\"]:\n",
    "    df1  =df [df[\"cat\"]==cat]\n",
    "    df1 = df1.reset_index()\n",
    "    df1[\"description\"]=df1[\"description\"].astype(str)\n",
    "    benefit_list = []\n",
    "    for i in range(len(df1)):\n",
    "        item = df1[\"description\"][i]\n",
    "        a = item.split(\",\")\n",
    "        for j in range(len(a)):\n",
    "            benefit_list.append(a[j])\n",
    "    result = []\n",
    "    for i in range(len(benefit_list)):\n",
    "        item = benefit_list[i]\n",
    "        a = item.split(\" \")\n",
    "        for j in range(len(a)):\n",
    "            result.append(a[j])\n",
    "    result = list(map(str.lower,result))\n",
    "    \n",
    "    frequency = collections.Counter(result)\n",
    "    frequency = dict(frequency)\n",
    "    key = pd.DataFrame(frequency.keys())\n",
    "    value = pd.DataFrame(frequency.values())\n",
    "    data = pd.concat([key, value], axis = 1)\n",
    "    #data = data.reset_index()\n",
    "    data.columns = [ cat, cat+ \"_count\"]\n",
    "    data = data.sort_values(cat + \"_count\", ascending = False)\n",
    "    print(data.head(30))\n",
    "    \n",
    "    description_count = pd.concat([description_count, data], axis = 1)\n"
   ]
  },
  {
   "cell_type": "code",
   "execution_count": 28,
   "metadata": {},
   "outputs": [],
   "source": [
    "description_count.to_csv(\"description_count.csv\")"
   ]
  },
  {
   "cell_type": "code",
   "execution_count": null,
   "metadata": {},
   "outputs": [],
   "source": []
  }
 ],
 "metadata": {
  "kernelspec": {
   "display_name": "Python 3",
   "language": "python",
   "name": "python3"
  },
  "language_info": {
   "codemirror_mode": {
    "name": "ipython",
    "version": 3
   },
   "file_extension": ".py",
   "mimetype": "text/x-python",
   "name": "python",
   "nbconvert_exporter": "python",
   "pygments_lexer": "ipython3",
   "version": "3.8.3"
  }
 },
 "nbformat": 4,
 "nbformat_minor": 5
}
